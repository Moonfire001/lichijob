{
 "cells": [
  {
   "cell_type": "code",
   "execution_count": 5,
   "id": "1b763c5f",
   "metadata": {},
   "outputs": [],
   "source": [
    "from selenium import webdriver\n",
    "import pymssql\n",
    "from selenium.webdriver.common.action_chains import ActionChains\n",
    "import time\n",
    "import os\n",
    "import pandas as pd\n",
    "import warnings\n",
    "warnings.filterwarnings(\"ignore\")  # 忽略UserWarning兼容性警告\n",
    "date = time.strftime(\"%Y-%m-%d\")"
   ]
  },
  {
   "cell_type": "code",
   "execution_count": 6,
   "id": "936acd96",
   "metadata": {},
   "outputs": [
    {
     "name": "stdout",
     "output_type": "stream",
     "text": [
      "文件夹 C:/Users/15516/Desktop/数据处理/励齿数据/2023-07-06 已存在\n"
     ]
    }
   ],
   "source": [
    "output_folder = f'C:/Users/15516/Desktop/数据处理/励齿数据/{date}'\n",
    "\n",
    "if not os.path.exists(output_folder):\n",
    "    os.mkdir(output_folder)\n",
    "    print(f\"文件夹 {output_folder} 创建成功\")\n",
    "else:\n",
    "    print(f\"文件夹 {output_folder} 已存在\")"
   ]
  },
  {
   "cell_type": "markdown",
   "id": "9cc7abd1",
   "metadata": {},
   "source": [
    "# 获取源文件\n",
    "## 获取商品后台数据"
   ]
  },
  {
   "cell_type": "markdown",
   "id": "00d21995",
   "metadata": {},
   "source": [
    "### 配置函数"
   ]
  },
  {
   "cell_type": "code",
   "execution_count": 7,
   "id": "61d14e57",
   "metadata": {},
   "outputs": [],
   "source": [
    "def Download(url):\n",
    "    driver = webdriver.Chrome()  # 启动谷歌浏览器\n",
    "    url = url  # 获取上海后台网址\n",
    "    driver.get(url)  # 登录网址\n",
    "    time.sleep(3)  # 等待网页加载五秒\n",
    "\n",
    "    # 输入账号和密码\n",
    "    driver.find_element('xpath','//input[@type=\"text\"]').send_keys('韦鹏')\n",
    "    driver.find_element('xpath','//input[@type=\"password\"]').send_keys('wp123456')\n",
    "\n",
    "    time.sleep(1)\n",
    "\n",
    "    # 点击登录按钮\n",
    "    driver.find_element('xpath','//button').click()\n",
    "    time.sleep(1)\n",
    "\n",
    "    # 点击按钮1\n",
    "    # from selenium.webdriver.common.by import By\n",
    "\n",
    "    # button1 = driver.find_element(By.XPATH, './/li[contains(text(),\"子产品管理\")]')\n",
    "\n",
    "    button_first = driver.find_element('xpath', \"//span[contains(text(),'产品列表')]\")\n",
    "    button_first.click()\n",
    "    time.sleep(1)\n",
    "\n",
    "    # 点击按钮2\n",
    "    button_second = driver.find_element('xpath',\"//li[contains(text(),'子产品管理')]\")\n",
    "    ActionChains(driver).click(button_second).perform()\n",
    "    time.sleep(1)\n",
    "\n",
    "    # 点击按钮2\n",
    "    button_download = driver.find_element('xpath',\"//span[contains(text(),'导出商品详情')]\")\n",
    "    button_download.click()\n",
    "    time.sleep(50)\n",
    "    \n",
    "    if os.path.exists('C:/Users/15516/Downloads/子产品详情.xlsx'):\n",
    "        print(\"文件存在，下载完成\")\n",
    "    else:\n",
    "        print(\"文件不存在\")\n",
    "    \n",
    "    driver.quit() # 关闭谷歌浏览器\n",
    "\n",
    "    \n",
    "def Deal_with(output_folder,area):\n",
    "    # 读取文件并保存到新路径\n",
    "    file = 'C:/Users/15516/Downloads/子产品详情.xlsx'\n",
    "    file_df = pd.read_excel(file, sheet_name='商品详情')\n",
    "    file_df.to_excel(f'{output_folder}/{area}产品详情.xlsx', index=False)\n",
    "    print('文件创建成功')\n",
    "\n",
    "    # 删除原文件\n",
    "    os.remove(file)"
   ]
  },
  {
   "cell_type": "code",
   "execution_count": 8,
   "id": "6019c4ce",
   "metadata": {},
   "outputs": [
    {
     "name": "stdout",
     "output_type": "stream",
     "text": [
      "文件存在，下载完成\n",
      "文件创建成功\n"
     ]
    }
   ],
   "source": [
    "Download('https://www.lichidental.com/sys/index.html#/')\n",
    "Deal_with(output_folder,\"上海\")"
   ]
  },
  {
   "cell_type": "code",
   "execution_count": 9,
   "id": "323bbdf4",
   "metadata": {},
   "outputs": [
    {
     "name": "stdout",
     "output_type": "stream",
     "text": [
      "文件存在，下载完成\n",
      "文件创建成功\n"
     ]
    }
   ],
   "source": [
    "Download('https://www.beijinglichidental.com/sys/#/')\n",
    "Deal_with(output_folder,\"北京\")"
   ]
  },
  {
   "cell_type": "code",
   "execution_count": 10,
   "id": "49d544d2",
   "metadata": {},
   "outputs": [
    {
     "name": "stdout",
     "output_type": "stream",
     "text": [
      "文件存在，下载完成\n",
      "文件创建成功\n"
     ]
    }
   ],
   "source": [
    "Download('https://www.lichigz.com/sys/#/')\n",
    "Deal_with(output_folder,\"广州\")"
   ]
  },
  {
   "cell_type": "markdown",
   "id": "816eb140",
   "metadata": {},
   "source": [
    "# 数据库数据提取"
   ]
  },
  {
   "cell_type": "code",
   "execution_count": 11,
   "id": "fd9f6358",
   "metadata": {},
   "outputs": [],
   "source": [
    "server = \"120.253.186.206:12513\"\n",
    "user = \"baseline2\"\n",
    "password = \"qwert123!@#\"\n",
    "database = \"Lichi\"  \n",
    "\n",
    "# 建立数据库连接\n",
    "conn = pymssql.connect(server=server, user=user, password=password, database=database)"
   ]
  },
  {
   "cell_type": "code",
   "execution_count": 12,
   "id": "484766a0",
   "metadata": {},
   "outputs": [],
   "source": [
    "# 采购价格获取\n",
    "query_sh_Purchase_Price = '''\n",
    "SELECT\n",
    "    de.cinvcode AS '励齿编码',\n",
    "    de.cInvName AS '商品名称',\n",
    "    SUM(de.iGquantity) AS '数量',\n",
    "    SUM(de.iGquantity * de.iUnitPrice) / SUM(de.iGquantity) AS '不含税采购价',\n",
    "    SUM(de.iGquantity * de.iTaxUnitPrice) / SUM(de.iGquantity) AS '含税采购价'\n",
    "FROM\n",
    "    lichi..PU_PurOrderDetail de\n",
    "    INNER JOIN lichi..PU_PurOrderMaster ma \n",
    "    ON de.POMID = ma.POMID\n",
    "WHERE\n",
    "    DATEDIFF(dd, ma.dInputDate, GETDATE()) <= 30\n",
    "    AND ma.Status in ('已审核','关闭')\n",
    "    AND de.iTaxUnitPrice NOT IN ('0', '0.01', '0.1')\n",
    "    AND (SELECT cVenName from lichi..vendor where ma.cVenCode = cVenCode) not like '%励齿医疗%' \n",
    "    AND igQuantity != 0\n",
    "GROUP BY\n",
    "    de.cinvcode,\n",
    "    de.cInvName\n",
    "'''\n",
    "\n",
    "query_bj_Purchase_Price = '''\n",
    "SELECT\n",
    "    de.cinvcode AS '励齿编码',\n",
    "    de.cInvName AS '商品名称',\n",
    "    SUM(de.iGquantity) AS '数量',\n",
    "    SUM(de.iGquantity * de.iUnitPrice) / SUM(de.iGquantity) AS '不含税采购价',\n",
    "    SUM(de.iGquantity * de.iTaxUnitPrice) / SUM(de.iGquantity) AS '含税采购价'\n",
    "FROM\n",
    "    LiChi_BeiJing..PU_PurOrderDetail de\n",
    "    INNER JOIN LiChi_BeiJing..PU_PurOrderMaster ma \n",
    "    ON de.POMID = ma.POMID\n",
    "WHERE\n",
    "    DATEDIFF(dd, ma.dInputDate, GETDATE()) <= 30\n",
    "    AND ma.Status in ('已审核','关闭')\n",
    "    AND de.iTaxUnitPrice NOT IN ('0', '0.01', '0.1')\n",
    "    AND (SELECT cVenName from LiChi_BeiJing..vendor where ma.cVenCode = cVenCode) not like '%励齿医疗%'\n",
    "    AND igQuantity != 0\n",
    "GROUP BY\n",
    "    de.cinvcode,\n",
    "    de.cInvName\n",
    "'''\n",
    "\n",
    "query_gz_Purchase_Price = '''\n",
    "SELECT\n",
    "    de.cinvcode AS '励齿编码',\n",
    "    de.cInvName AS '商品名称',\n",
    "    SUM(de.iGquantity) AS '数量',\n",
    "    SUM(de.iGquantity * de.iUnitPrice) / SUM(de.iGquantity) AS '不含税采购价',\n",
    "    SUM(de.iGquantity * de.iTaxUnitPrice) / SUM(de.iGquantity) AS '含税采购价'\n",
    "FROM\n",
    "    LiChi_GuangZhou..PU_PurOrderDetail de\n",
    "    INNER JOIN LiChi_GuangZhou..PU_PurOrderMaster ma \n",
    "    ON de.POMID = ma.POMID\n",
    "WHERE\n",
    "    DATEDIFF(dd, ma.dInputDate, GETDATE()) <= 30\n",
    "    AND ma.Status in ('已审核','关闭')\n",
    "    AND de.iTaxUnitPrice NOT IN ('0', '0.01', '0.1')\n",
    "    AND (SELECT cVenName from LiChi_GuangZhou..vendor where ma.cVenCode = cVenCode) not like '%励齿医疗%'\n",
    "    AND igQuantity != 0\n",
    "GROUP BY\n",
    "    de.cinvcode,\n",
    "    de.cInvName\n",
    "'''"
   ]
  },
  {
   "cell_type": "code",
   "execution_count": 13,
   "id": "1291d808",
   "metadata": {},
   "outputs": [],
   "source": [
    "def lichi_Purchase_Price(query,area):\n",
    "    \"\"\"\n",
    "    根据给定的SQL查询，从数据库中获取采购价格数据，并将结果保存为Excel文件。\n",
    "\n",
    "    参数：\n",
    "    - query: SQL查询语句\n",
    "    - area: 区域名称，用于生成输出文件的文件名\n",
    "\n",
    "    返回：\n",
    "    无\n",
    "\n",
    "    \"\"\"\n",
    "    pd.read_sql(query,conn).to_excel(f'{output_folder}/{area}采购价格.xlsx',sheet_name='采购价格',index = False)"
   ]
  },
  {
   "cell_type": "code",
   "execution_count": 14,
   "id": "9fc8b0c3",
   "metadata": {},
   "outputs": [],
   "source": [
    "lichi_Purchase_Price(query_sh_Purchase_Price,\"上海\")\n",
    "lichi_Purchase_Price(query_bj_Purchase_Price,\"北京\")\n",
    "lichi_Purchase_Price(query_gz_Purchase_Price,\"广州\")"
   ]
  },
  {
   "cell_type": "code",
   "execution_count": 15,
   "id": "3c8e4130",
   "metadata": {},
   "outputs": [],
   "source": [
    "# 库存获取\n",
    "query_sh_Inventory = '''\n",
    "SELECT\n",
    "    cInvCode '励齿编码',\n",
    "    SUM ( iQuantity ) '励齿库存' \n",
    "FROM\n",
    "    LiChi.dbo.WMS_CurrentStock \n",
    "WHERE\n",
    "    cWhCode = '01' \n",
    "GROUP BY\n",
    "    cInvCode\n",
    "'''\n",
    "\n",
    "query_bj_Inventory = '''\n",
    "SELECT\n",
    "    cInvCode '励齿编码',\n",
    "    SUM ( iQuantity ) '励齿库存' \n",
    "FROM\n",
    "    LiChi_BeiJing..WMS_CurrentStock \n",
    "WHERE\n",
    "    cWhCode = '001' \n",
    "GROUP BY\n",
    "    cInvCode\n",
    "'''\n",
    "\n",
    "query_gz_Inventory = '''\n",
    "SELECT\n",
    "    cInvCode '励齿编码',\n",
    "    SUM (iQuantity) '励齿库存' \n",
    "FROM\n",
    "    LiChi_GuangZhou..WMS_CurrentStock \n",
    "WHERE\n",
    "    cWhCode = '88' \n",
    "GROUP BY\n",
    "    cInvCode\n",
    "'''"
   ]
  },
  {
   "cell_type": "code",
   "execution_count": 16,
   "id": "a8a3643a",
   "metadata": {},
   "outputs": [],
   "source": [
    "def lichi_Inventory(query,area):\n",
    "    \"\"\"\n",
    "    根据给定的SQL查询，从数据库中获取采购价格数据，并将结果保存为Excel文件。\n",
    "\n",
    "    参数：\n",
    "    - query: SQL查询语句\n",
    "    - area: 区域名称，用于生成输出文件的文件名\n",
    "\n",
    "    返回：\n",
    "    无\n",
    "\n",
    "    \"\"\"\n",
    "    pd.read_sql(query,conn).to_excel(f'{output_folder}/{area}库存.xlsx',sheet_name='库存',index = False)"
   ]
  },
  {
   "cell_type": "code",
   "execution_count": 17,
   "id": "a9dd96bf",
   "metadata": {},
   "outputs": [],
   "source": [
    "lichi_Inventory(query_sh_Inventory,\"上海\")\n",
    "lichi_Inventory(query_bj_Inventory,\"北京\")\n",
    "lichi_Inventory(query_gz_Inventory,\"广州\")"
   ]
  },
  {
   "cell_type": "code",
   "execution_count": null,
   "id": "91da5d5c",
   "metadata": {},
   "outputs": [],
   "source": []
  },
  {
   "cell_type": "code",
   "execution_count": null,
   "id": "1ec48098",
   "metadata": {},
   "outputs": [],
   "source": []
  },
  {
   "cell_type": "code",
   "execution_count": null,
   "id": "756ebea1",
   "metadata": {},
   "outputs": [],
   "source": []
  }
 ],
 "metadata": {
  "kernelspec": {
   "display_name": "Python 3 (ipykernel)",
   "language": "python",
   "name": "python3"
  },
  "language_info": {
   "codemirror_mode": {
    "name": "ipython",
    "version": 3
   },
   "file_extension": ".py",
   "mimetype": "text/x-python",
   "name": "python",
   "nbconvert_exporter": "python",
   "pygments_lexer": "ipython3",
   "version": "3.10.9"
  }
 },
 "nbformat": 4,
 "nbformat_minor": 5
}
