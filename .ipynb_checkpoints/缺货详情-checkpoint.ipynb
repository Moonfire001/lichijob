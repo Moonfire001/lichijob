{
 "cells": [
  {
   "cell_type": "markdown",
   "id": "0aee2231",
   "metadata": {},
   "source": [
    "# 缺货详情"
   ]
  },
  {
   "attachments": {},
   "cell_type": "markdown",
   "id": "e63fc0f9",
   "metadata": {},
   "source": [
    "## 配置模块"
   ]
  },
  {
   "cell_type": "code",
   "execution_count": 156,
   "id": "a5951d0b",
   "metadata": {},
   "outputs": [],
   "source": [
    "import os\n",
    "import pandas as pd\n",
    "import pymysql\n",
    "import pymssql\n",
    "import math\n",
    "import datetime\n",
    "\n",
    "# 定义月份中文列表\n",
    "month_names = ['一月', '二月', '三月', '四月', '五月', '六月', '七月', '八月', '九月', '十月', '十一月', '十二月']\n",
    "\n",
    "# 获取当前月份的中文表示\n",
    "current_month = datetime.datetime.now().month\n",
    "month_chinese = month_names[current_month - 2]\n",
    "\n",
    "\n",
    "server = \"192.168.1.250\" \n",
    "user = \"baseline2\"\n",
    "password = \"qwert123!@#\"\n",
    "conn = pymssql.connect(server, user, password, 'lichi')"
   ]
  },
  {
   "cell_type": "code",
   "execution_count": 157,
   "id": "d5cfe74e",
   "metadata": {},
   "outputs": [],
   "source": [
    "folder_path = r'C:/Users/15516/Desktop/数据处理/test'\n",
    "# # 获取所有文件夹路径\n",
    "# folders = get_all_folders(folder_path)\n",
    "\n",
    "# area_list = ['上海','北京','广州']\n",
    "\n",
    "# # 打印文件夹路径\n",
    "# for folder in folders:\n",
    "#     for area in area_list:\n",
    "#         df_cp,df_kc,df_jg = file(folder,area)\n",
    "        \n",
    "#         print(folder,area)"
   ]
  },
  {
   "cell_type": "markdown",
   "id": "23258461",
   "metadata": {},
   "source": [
    "## 查询代码配置"
   ]
  },
  {
   "cell_type": "code",
   "execution_count": 160,
   "id": "fa165a5b",
   "metadata": {},
   "outputs": [],
   "source": [
    "def get_all_folders(directory):\n",
    "    folder_list = []\n",
    "    for root, dirs, files in os.walk(directory):\n",
    "        for folder in dirs:\n",
    "            folder_path = os.path.join(root, folder)\n",
    "            folder_list.append(folder_path)\n",
    "    return folder_list\n",
    "\n",
    "\n",
    "def query_list(area):\n",
    "    \n",
    "    # 根据地区设置 lichi 变量\n",
    "    area_mapping = {\n",
    "        '上海': 'lichi',\n",
    "        '北京': 'lichi_beijing',\n",
    "        '广州': 'lichi_guangzhou'\n",
    "    }\n",
    "    lichi = area_mapping.get(area, '')\n",
    "    \n",
    "    # 查询入库数量数据\n",
    "    query1 = f'''\n",
    "    SELECT cInvCode AS 'SKU编码',\n",
    "        SUM(CASE WHEN DATEDIFF(month, dInputdate, GETDATE()) = 1 THEN igQuantity ELSE 0 END) AS '本月入库数量',\n",
    "        SUM(CASE WHEN DATEDIFF(month, dInputdate, GETDATE()) = 2 THEN igQuantity ELSE 0 END) AS '上月入库数量'\n",
    "    FROM {lichi}..pu_purordermaster ma\n",
    "    INNER JOIN {lichi}..PU_PurOrderDetail de ON ma.pomid = de.pomid \n",
    "    WHERE iTaxUnitPrice NOT IN ('0', '0.01', '0.1')\n",
    "        AND Status IN ('已审核','关闭') \n",
    "        AND (SELECT cVenName FROM {lichi}..vendor WHERE ma.cVenCode = cVenCode) NOT LIKE '%励齿医疗%'\n",
    "        AND igQuantity != 0\n",
    "    GROUP BY cInvCode\n",
    "    '''\n",
    "\n",
    "    # 查询出库数量数据\n",
    "    query2 = f'''\n",
    "    SELECT i.cInvCode AS 'SKU编码',\n",
    "        i.cBrandName AS '品牌',\n",
    "        SUM(CASE WHEN DATEDIFF(month, dDispatchDate, GETDATE()) = 1 THEN iQuantity ELSE 0 END) AS '本月出库数',\n",
    "        SUM(CASE WHEN DATEDIFF(month, dDispatchDate, GETDATE()) = 2 THEN iQuantity ELSE 0 END) AS '上月出库数',\n",
    "        SUM(CASE WHEN DATEDIFF(month, dDispatchDate, GETDATE()) = 3 THEN iQuantity ELSE 0 END) AS '近两月出库数'\n",
    "    FROM {lichi}..inventory i \n",
    "    LEFT JOIN \n",
    "    {lichi}..SA_SalesOrderDetail de \n",
    "    ON i.cinvcode = de.cinvcode\n",
    "    {lichi}..SA_SalesOrderMaster ma    \n",
    "    INNER JOIN \n",
    "    ON ma.SOMID = de.somid\n",
    "    LEFT JOIN \n",
    "    WHERE DATEDIFF(MONTH, dDispatchDate, GETDATE()) = 1\n",
    "        AND Status = '出库完成'\n",
    "        AND cInvoiceTitle NOT LIKE '%励齿医疗%'\n",
    "    GROUP BY i.cInvCode, i.cBrandName\n",
    "    '''\n",
    "\n",
    "    # 注释：\n",
    "    # - query1: 用于获取指定条件下的入库数量数据，包括 SKU 编码、本月入库数量和上月入库数量等字段。\n",
    "    # - query2: 用于获取指定条件下的出库数量数据，包括 SKU 编码、品牌、本月出库数、上月出库数和近两月出库数等字段。\n",
    "    \n",
    "    return query1,query2\n",
    "\n",
    "\n",
    "def file(folder,area,query1,query2):\n",
    "    df_cp = pd.read_excel(f'{folder}/{area}产品详情.xlsx')\n",
    "    \n",
    "    df_kc = pd.read_excel(f'{folder}/{area}库存.xlsx')\n",
    "    new_columns = ['SKU编码','励齿库存']\n",
    "    df_kc.columns = new_columns\n",
    "    \n",
    "    query1,query2 = query_list(area)\n",
    "    df_rksl = pd.read_sql(query1, conn) # 入库数量\n",
    "    df_cksl = pd.read_sql(query2, conn) # 出库数量\n",
    "    \n",
    "    df = df_cp[['SKU编码','名称','规格','是否上架','一级分类','二级分类','三级分类']]\n",
    "\n",
    "\n",
    "    df = df[(df['是否上架'] == '上架') & (~df['SKU编码'].str.startswith(('9', '759'))) & (~df['名称'].str.contains('定制'))]\n",
    "\n",
    "\n",
    "    df = df.merge(df_cksl,on='SKU编码',how='left').merge(df_rksl,on='SKU编码',how='left').merge(df_kc,on='SKU编码',how='left')\n",
    "    \n",
    "    return query1,query2,df"
   ]
  },
  {
   "cell_type": "code",
   "execution_count": 161,
   "id": "b95605e6",
   "metadata": {},
   "outputs": [
    {
     "name": "stderr",
     "output_type": "stream",
     "text": [
      "C:\\Users\\15516\\AppData\\Local\\Temp\\ipykernel_15208\\855434557.py:70: UserWarning: pandas only supports SQLAlchemy connectable (engine/connection) or database string URI or sqlite3 DBAPI2 connection. Other DBAPI2 objects are not tested. Please consider using SQLAlchemy.\n",
      "  df_rksl = pd.read_sql(query1, conn) # 入库数量\n",
      "C:\\Users\\15516\\AppData\\Local\\Temp\\ipykernel_15208\\855434557.py:71: UserWarning: pandas only supports SQLAlchemy connectable (engine/connection) or database string URI or sqlite3 DBAPI2 connection. Other DBAPI2 objects are not tested. Please consider using SQLAlchemy.\n",
      "  df_cksl = pd.read_sql(query2, conn) # 出库数量\n"
     ]
    },
    {
     "ename": "DatabaseError",
     "evalue": "Execution failed on sql '\n    SELECT i.cInvCode AS 'SKU编码',\n        i.cBrandName AS '品牌',\n        SUM(CASE WHEN DATEDIFF(month, dDispatchDate, GETDATE()) = 1 THEN iQuantity ELSE 0 END) AS '本月出库数',\n        SUM(CASE WHEN DATEDIFF(month, dDispatchDate, GETDATE()) = 2 THEN iQuantity ELSE 0 END) AS '上月出库数',\n        SUM(CASE WHEN DATEDIFF(month, dDispatchDate, GETDATE()) = 3 THEN iQuantity ELSE 0 END) AS '近两月出库数'\n    FROM lichi..inventory i \n    LEFT JOIN \n    lichi..SA_SalesOrderDetail de \n    ON i.cinvcode = de.cinvcode\n    lichi..SA_SalesOrderMaster ma    \n    INNER JOIN \n    ON ma.SOMID = de.somid\n    LEFT JOIN \n    WHERE DATEDIFF(MONTH, dDispatchDate, GETDATE()) = 1\n        AND Status = '出库完成'\n        AND cInvoiceTitle NOT LIKE '%励齿医疗%'\n    GROUP BY i.cInvCode, i.cBrandName\n    ': (102, b\"Incorrect syntax near 'lichi'.DB-Lib error message 20018, severity 15:\\nGeneral SQL Server error: Check messages from the SQL Server\\n\")",
     "output_type": "error",
     "traceback": [
      "\u001b[1;31m---------------------------------------------------------------------------\u001b[0m",
      "\u001b[1;31mMSSQLDatabaseException\u001b[0m                    Traceback (most recent call last)",
      "File \u001b[1;32msrc\\pymssql\\_pymssql.pyx:459\u001b[0m, in \u001b[0;36mpymssql._pymssql.Cursor.execute\u001b[1;34m()\u001b[0m\n",
      "File \u001b[1;32msrc\\pymssql\\_mssql.pyx:1087\u001b[0m, in \u001b[0;36mpymssql._mssql.MSSQLConnection.execute_query\u001b[1;34m()\u001b[0m\n",
      "File \u001b[1;32msrc\\pymssql\\_mssql.pyx:1118\u001b[0m, in \u001b[0;36mpymssql._mssql.MSSQLConnection.execute_query\u001b[1;34m()\u001b[0m\n",
      "File \u001b[1;32msrc\\pymssql\\_mssql.pyx:1251\u001b[0m, in \u001b[0;36mpymssql._mssql.MSSQLConnection.format_and_run_query\u001b[1;34m()\u001b[0m\n",
      "File \u001b[1;32msrc\\pymssql\\_mssql.pyx:1789\u001b[0m, in \u001b[0;36mpymssql._mssql.check_cancel_and_raise\u001b[1;34m()\u001b[0m\n",
      "File \u001b[1;32msrc\\pymssql\\_mssql.pyx:1835\u001b[0m, in \u001b[0;36mpymssql._mssql.raise_MSSQLDatabaseException\u001b[1;34m()\u001b[0m\n",
      "\u001b[1;31mMSSQLDatabaseException\u001b[0m: (102, b\"Incorrect syntax near 'lichi'.DB-Lib error message 20018, severity 15:\\nGeneral SQL Server error: Check messages from the SQL Server\\n\")",
      "\nDuring handling of the above exception, another exception occurred:\n",
      "\u001b[1;31mProgrammingError\u001b[0m                          Traceback (most recent call last)",
      "File \u001b[1;32mD:\\tool\\Anaconda3\\lib\\site-packages\\pandas\\io\\sql.py:2018\u001b[0m, in \u001b[0;36mSQLiteDatabase.execute\u001b[1;34m(self, *args, **kwargs)\u001b[0m\n\u001b[0;32m   2017\u001b[0m \u001b[38;5;28;01mtry\u001b[39;00m:\n\u001b[1;32m-> 2018\u001b[0m     cur\u001b[38;5;241m.\u001b[39mexecute(\u001b[38;5;241m*\u001b[39margs, \u001b[38;5;241m*\u001b[39m\u001b[38;5;241m*\u001b[39mkwargs)\n\u001b[0;32m   2019\u001b[0m     \u001b[38;5;28;01mreturn\u001b[39;00m cur\n",
      "File \u001b[1;32msrc\\pymssql\\_pymssql.pyx:476\u001b[0m, in \u001b[0;36mpymssql._pymssql.Cursor.execute\u001b[1;34m()\u001b[0m\n",
      "\u001b[1;31mProgrammingError\u001b[0m: (102, b\"Incorrect syntax near 'lichi'.DB-Lib error message 20018, severity 15:\\nGeneral SQL Server error: Check messages from the SQL Server\\n\")",
      "\nThe above exception was the direct cause of the following exception:\n",
      "\u001b[1;31mDatabaseError\u001b[0m                             Traceback (most recent call last)",
      "Cell \u001b[1;32mIn[161], line 1\u001b[0m\n\u001b[1;32m----> 1\u001b[0m query1,query2,df \u001b[38;5;241m=\u001b[39m \u001b[43mfile\u001b[49m\u001b[43m(\u001b[49m\u001b[38;5;124;43mr\u001b[39;49m\u001b[38;5;124;43m'\u001b[39;49m\u001b[38;5;124;43mC:/Users/15516/Desktop/数据处理/test/2023-06-01\u001b[39;49m\u001b[38;5;124;43m'\u001b[39;49m\u001b[43m,\u001b[49m\u001b[38;5;124;43m'\u001b[39;49m\u001b[38;5;124;43m上海\u001b[39;49m\u001b[38;5;124;43m'\u001b[39;49m\u001b[43m,\u001b[49m\u001b[43mquery1\u001b[49m\u001b[43m,\u001b[49m\u001b[43mquery2\u001b[49m\u001b[43m)\u001b[49m\n",
      "Cell \u001b[1;32mIn[160], line 71\u001b[0m, in \u001b[0;36mfile\u001b[1;34m(folder, area, query1, query2)\u001b[0m\n\u001b[0;32m     69\u001b[0m query1,query2 \u001b[38;5;241m=\u001b[39m query_list(area)\n\u001b[0;32m     70\u001b[0m df_rksl \u001b[38;5;241m=\u001b[39m pd\u001b[38;5;241m.\u001b[39mread_sql(query1, conn) \u001b[38;5;66;03m# 入库数量\u001b[39;00m\n\u001b[1;32m---> 71\u001b[0m df_cksl \u001b[38;5;241m=\u001b[39m \u001b[43mpd\u001b[49m\u001b[38;5;241;43m.\u001b[39;49m\u001b[43mread_sql\u001b[49m\u001b[43m(\u001b[49m\u001b[43mquery2\u001b[49m\u001b[43m,\u001b[49m\u001b[43m \u001b[49m\u001b[43mconn\u001b[49m\u001b[43m)\u001b[49m \u001b[38;5;66;03m# 出库数量\u001b[39;00m\n\u001b[0;32m     73\u001b[0m df \u001b[38;5;241m=\u001b[39m df_cp[[\u001b[38;5;124m'\u001b[39m\u001b[38;5;124mSKU编码\u001b[39m\u001b[38;5;124m'\u001b[39m,\u001b[38;5;124m'\u001b[39m\u001b[38;5;124m名称\u001b[39m\u001b[38;5;124m'\u001b[39m,\u001b[38;5;124m'\u001b[39m\u001b[38;5;124m规格\u001b[39m\u001b[38;5;124m'\u001b[39m,\u001b[38;5;124m'\u001b[39m\u001b[38;5;124m是否上架\u001b[39m\u001b[38;5;124m'\u001b[39m,\u001b[38;5;124m'\u001b[39m\u001b[38;5;124m一级分类\u001b[39m\u001b[38;5;124m'\u001b[39m,\u001b[38;5;124m'\u001b[39m\u001b[38;5;124m二级分类\u001b[39m\u001b[38;5;124m'\u001b[39m,\u001b[38;5;124m'\u001b[39m\u001b[38;5;124m三级分类\u001b[39m\u001b[38;5;124m'\u001b[39m]]\n\u001b[0;32m     76\u001b[0m df \u001b[38;5;241m=\u001b[39m df[(df[\u001b[38;5;124m'\u001b[39m\u001b[38;5;124m是否上架\u001b[39m\u001b[38;5;124m'\u001b[39m] \u001b[38;5;241m==\u001b[39m \u001b[38;5;124m'\u001b[39m\u001b[38;5;124m上架\u001b[39m\u001b[38;5;124m'\u001b[39m) \u001b[38;5;241m&\u001b[39m (\u001b[38;5;241m~\u001b[39mdf[\u001b[38;5;124m'\u001b[39m\u001b[38;5;124mSKU编码\u001b[39m\u001b[38;5;124m'\u001b[39m]\u001b[38;5;241m.\u001b[39mstr\u001b[38;5;241m.\u001b[39mstartswith((\u001b[38;5;124m'\u001b[39m\u001b[38;5;124m9\u001b[39m\u001b[38;5;124m'\u001b[39m, \u001b[38;5;124m'\u001b[39m\u001b[38;5;124m759\u001b[39m\u001b[38;5;124m'\u001b[39m))) \u001b[38;5;241m&\u001b[39m (\u001b[38;5;241m~\u001b[39mdf[\u001b[38;5;124m'\u001b[39m\u001b[38;5;124m名称\u001b[39m\u001b[38;5;124m'\u001b[39m]\u001b[38;5;241m.\u001b[39mstr\u001b[38;5;241m.\u001b[39mcontains(\u001b[38;5;124m'\u001b[39m\u001b[38;5;124m定制\u001b[39m\u001b[38;5;124m'\u001b[39m))]\n",
      "File \u001b[1;32mD:\\tool\\Anaconda3\\lib\\site-packages\\pandas\\io\\sql.py:564\u001b[0m, in \u001b[0;36mread_sql\u001b[1;34m(sql, con, index_col, coerce_float, params, parse_dates, columns, chunksize)\u001b[0m\n\u001b[0;32m    561\u001b[0m pandas_sql \u001b[38;5;241m=\u001b[39m pandasSQL_builder(con)\n\u001b[0;32m    563\u001b[0m \u001b[38;5;28;01mif\u001b[39;00m \u001b[38;5;28misinstance\u001b[39m(pandas_sql, SQLiteDatabase):\n\u001b[1;32m--> 564\u001b[0m     \u001b[38;5;28;01mreturn\u001b[39;00m \u001b[43mpandas_sql\u001b[49m\u001b[38;5;241;43m.\u001b[39;49m\u001b[43mread_query\u001b[49m\u001b[43m(\u001b[49m\n\u001b[0;32m    565\u001b[0m \u001b[43m        \u001b[49m\u001b[43msql\u001b[49m\u001b[43m,\u001b[49m\n\u001b[0;32m    566\u001b[0m \u001b[43m        \u001b[49m\u001b[43mindex_col\u001b[49m\u001b[38;5;241;43m=\u001b[39;49m\u001b[43mindex_col\u001b[49m\u001b[43m,\u001b[49m\n\u001b[0;32m    567\u001b[0m \u001b[43m        \u001b[49m\u001b[43mparams\u001b[49m\u001b[38;5;241;43m=\u001b[39;49m\u001b[43mparams\u001b[49m\u001b[43m,\u001b[49m\n\u001b[0;32m    568\u001b[0m \u001b[43m        \u001b[49m\u001b[43mcoerce_float\u001b[49m\u001b[38;5;241;43m=\u001b[39;49m\u001b[43mcoerce_float\u001b[49m\u001b[43m,\u001b[49m\n\u001b[0;32m    569\u001b[0m \u001b[43m        \u001b[49m\u001b[43mparse_dates\u001b[49m\u001b[38;5;241;43m=\u001b[39;49m\u001b[43mparse_dates\u001b[49m\u001b[43m,\u001b[49m\n\u001b[0;32m    570\u001b[0m \u001b[43m        \u001b[49m\u001b[43mchunksize\u001b[49m\u001b[38;5;241;43m=\u001b[39;49m\u001b[43mchunksize\u001b[49m\u001b[43m,\u001b[49m\n\u001b[0;32m    571\u001b[0m \u001b[43m    \u001b[49m\u001b[43m)\u001b[49m\n\u001b[0;32m    573\u001b[0m \u001b[38;5;28;01mtry\u001b[39;00m:\n\u001b[0;32m    574\u001b[0m     _is_table_name \u001b[38;5;241m=\u001b[39m pandas_sql\u001b[38;5;241m.\u001b[39mhas_table(sql)\n",
      "File \u001b[1;32mD:\\tool\\Anaconda3\\lib\\site-packages\\pandas\\io\\sql.py:2078\u001b[0m, in \u001b[0;36mSQLiteDatabase.read_query\u001b[1;34m(self, sql, index_col, coerce_float, params, parse_dates, chunksize, dtype)\u001b[0m\n\u001b[0;32m   2066\u001b[0m \u001b[38;5;28;01mdef\u001b[39;00m \u001b[38;5;21mread_query\u001b[39m(\n\u001b[0;32m   2067\u001b[0m     \u001b[38;5;28mself\u001b[39m,\n\u001b[0;32m   2068\u001b[0m     sql,\n\u001b[1;32m   (...)\u001b[0m\n\u001b[0;32m   2074\u001b[0m     dtype: DtypeArg \u001b[38;5;241m|\u001b[39m \u001b[38;5;28;01mNone\u001b[39;00m \u001b[38;5;241m=\u001b[39m \u001b[38;5;28;01mNone\u001b[39;00m,\n\u001b[0;32m   2075\u001b[0m ) \u001b[38;5;241m-\u001b[39m\u001b[38;5;241m>\u001b[39m DataFrame \u001b[38;5;241m|\u001b[39m Iterator[DataFrame]:\n\u001b[0;32m   2077\u001b[0m     args \u001b[38;5;241m=\u001b[39m _convert_params(sql, params)\n\u001b[1;32m-> 2078\u001b[0m     cursor \u001b[38;5;241m=\u001b[39m \u001b[38;5;28;43mself\u001b[39;49m\u001b[38;5;241;43m.\u001b[39;49m\u001b[43mexecute\u001b[49m\u001b[43m(\u001b[49m\u001b[38;5;241;43m*\u001b[39;49m\u001b[43margs\u001b[49m\u001b[43m)\u001b[49m\n\u001b[0;32m   2079\u001b[0m     columns \u001b[38;5;241m=\u001b[39m [col_desc[\u001b[38;5;241m0\u001b[39m] \u001b[38;5;28;01mfor\u001b[39;00m col_desc \u001b[38;5;129;01min\u001b[39;00m cursor\u001b[38;5;241m.\u001b[39mdescription]\n\u001b[0;32m   2081\u001b[0m     \u001b[38;5;28;01mif\u001b[39;00m chunksize \u001b[38;5;129;01mis\u001b[39;00m \u001b[38;5;129;01mnot\u001b[39;00m \u001b[38;5;28;01mNone\u001b[39;00m:\n",
      "File \u001b[1;32mD:\\tool\\Anaconda3\\lib\\site-packages\\pandas\\io\\sql.py:2030\u001b[0m, in \u001b[0;36mSQLiteDatabase.execute\u001b[1;34m(self, *args, **kwargs)\u001b[0m\n\u001b[0;32m   2027\u001b[0m     \u001b[38;5;28;01mraise\u001b[39;00m ex \u001b[38;5;28;01mfrom\u001b[39;00m \u001b[38;5;21;01minner_exc\u001b[39;00m\n\u001b[0;32m   2029\u001b[0m ex \u001b[38;5;241m=\u001b[39m DatabaseError(\u001b[38;5;124mf\u001b[39m\u001b[38;5;124m\"\u001b[39m\u001b[38;5;124mExecution failed on sql \u001b[39m\u001b[38;5;124m'\u001b[39m\u001b[38;5;132;01m{\u001b[39;00margs[\u001b[38;5;241m0\u001b[39m]\u001b[38;5;132;01m}\u001b[39;00m\u001b[38;5;124m'\u001b[39m\u001b[38;5;124m: \u001b[39m\u001b[38;5;132;01m{\u001b[39;00mexc\u001b[38;5;132;01m}\u001b[39;00m\u001b[38;5;124m\"\u001b[39m)\n\u001b[1;32m-> 2030\u001b[0m \u001b[38;5;28;01mraise\u001b[39;00m ex \u001b[38;5;28;01mfrom\u001b[39;00m \u001b[38;5;21;01mexc\u001b[39;00m\n",
      "\u001b[1;31mDatabaseError\u001b[0m: Execution failed on sql '\n    SELECT i.cInvCode AS 'SKU编码',\n        i.cBrandName AS '品牌',\n        SUM(CASE WHEN DATEDIFF(month, dDispatchDate, GETDATE()) = 1 THEN iQuantity ELSE 0 END) AS '本月出库数',\n        SUM(CASE WHEN DATEDIFF(month, dDispatchDate, GETDATE()) = 2 THEN iQuantity ELSE 0 END) AS '上月出库数',\n        SUM(CASE WHEN DATEDIFF(month, dDispatchDate, GETDATE()) = 3 THEN iQuantity ELSE 0 END) AS '近两月出库数'\n    FROM lichi..inventory i \n    LEFT JOIN \n    lichi..SA_SalesOrderDetail de \n    ON i.cinvcode = de.cinvcode\n    lichi..SA_SalesOrderMaster ma    \n    INNER JOIN \n    ON ma.SOMID = de.somid\n    LEFT JOIN \n    WHERE DATEDIFF(MONTH, dDispatchDate, GETDATE()) = 1\n        AND Status = '出库完成'\n        AND cInvoiceTitle NOT LIKE '%励齿医疗%'\n    GROUP BY i.cInvCode, i.cBrandName\n    ': (102, b\"Incorrect syntax near 'lichi'.DB-Lib error message 20018, severity 15:\\nGeneral SQL Server error: Check messages from the SQL Server\\n\")"
     ]
    }
   ],
   "source": [
    "query1,query2,df = file(r'C:/Users/15516/Desktop/数据处理/test/2023-06-01','上海',query1,query2)"
   ]
  },
  {
   "cell_type": "code",
   "execution_count": null,
   "id": "c38c9954",
   "metadata": {},
   "outputs": [],
   "source": [
    "df"
   ]
  },
  {
   "cell_type": "code",
   "execution_count": null,
   "id": "5f7fc547",
   "metadata": {},
   "outputs": [],
   "source": []
  },
  {
   "cell_type": "code",
   "execution_count": null,
   "id": "3b22a4bb",
   "metadata": {},
   "outputs": [],
   "source": []
  },
  {
   "cell_type": "code",
   "execution_count": null,
   "id": "4a7ec281",
   "metadata": {},
   "outputs": [],
   "source": []
  },
  {
   "cell_type": "code",
   "execution_count": null,
   "id": "d9d89d22",
   "metadata": {},
   "outputs": [],
   "source": []
  },
  {
   "cell_type": "code",
   "execution_count": null,
   "id": "54d38394",
   "metadata": {},
   "outputs": [],
   "source": []
  },
  {
   "cell_type": "code",
   "execution_count": null,
   "id": "7b97043c",
   "metadata": {},
   "outputs": [],
   "source": []
  },
  {
   "cell_type": "code",
   "execution_count": null,
   "id": "f2ac05f4",
   "metadata": {},
   "outputs": [],
   "source": []
  },
  {
   "cell_type": "code",
   "execution_count": null,
   "id": "78f2afe4",
   "metadata": {},
   "outputs": [],
   "source": []
  },
  {
   "cell_type": "code",
   "execution_count": null,
   "id": "719df480",
   "metadata": {},
   "outputs": [],
   "source": []
  },
  {
   "cell_type": "code",
   "execution_count": null,
   "id": "22be8c7f",
   "metadata": {},
   "outputs": [],
   "source": []
  },
  {
   "cell_type": "code",
   "execution_count": null,
   "id": "7524d90a",
   "metadata": {},
   "outputs": [],
   "source": []
  },
  {
   "cell_type": "code",
   "execution_count": null,
   "id": "0287566d",
   "metadata": {},
   "outputs": [],
   "source": []
  },
  {
   "cell_type": "code",
   "execution_count": null,
   "id": "20d72d7a",
   "metadata": {},
   "outputs": [],
   "source": []
  },
  {
   "cell_type": "code",
   "execution_count": null,
   "id": "6a399efb",
   "metadata": {},
   "outputs": [],
   "source": []
  },
  {
   "cell_type": "code",
   "execution_count": null,
   "id": "87ae853a",
   "metadata": {},
   "outputs": [],
   "source": []
  },
  {
   "cell_type": "code",
   "execution_count": null,
   "id": "e61e5e18",
   "metadata": {},
   "outputs": [],
   "source": []
  },
  {
   "cell_type": "code",
   "execution_count": null,
   "id": "9777d0f1",
   "metadata": {},
   "outputs": [],
   "source": []
  },
  {
   "cell_type": "code",
   "execution_count": null,
   "id": "0dc4010b",
   "metadata": {},
   "outputs": [],
   "source": []
  },
  {
   "cell_type": "code",
   "execution_count": null,
   "id": "b1924067",
   "metadata": {},
   "outputs": [],
   "source": []
  },
  {
   "cell_type": "code",
   "execution_count": null,
   "id": "c4063b84",
   "metadata": {},
   "outputs": [],
   "source": []
  },
  {
   "cell_type": "code",
   "execution_count": null,
   "id": "b74ba9af",
   "metadata": {},
   "outputs": [],
   "source": []
  },
  {
   "cell_type": "code",
   "execution_count": null,
   "id": "525a9a6c",
   "metadata": {},
   "outputs": [],
   "source": []
  },
  {
   "cell_type": "code",
   "execution_count": null,
   "id": "0f764684",
   "metadata": {},
   "outputs": [],
   "source": []
  },
  {
   "cell_type": "code",
   "execution_count": null,
   "id": "19ddc8f5",
   "metadata": {},
   "outputs": [],
   "source": []
  },
  {
   "cell_type": "code",
   "execution_count": null,
   "id": "63dde435",
   "metadata": {},
   "outputs": [],
   "source": []
  },
  {
   "cell_type": "code",
   "execution_count": null,
   "id": "1994cfa4",
   "metadata": {},
   "outputs": [],
   "source": []
  }
 ],
 "metadata": {
  "kernelspec": {
   "display_name": "Python 3 (ipykernel)",
   "language": "python",
   "name": "python3"
  },
  "language_info": {
   "codemirror_mode": {
    "name": "ipython",
    "version": 3
   },
   "file_extension": ".py",
   "mimetype": "text/x-python",
   "name": "python",
   "nbconvert_exporter": "python",
   "pygments_lexer": "ipython3",
   "version": "3.10.9"
  }
 },
 "nbformat": 4,
 "nbformat_minor": 5
}
