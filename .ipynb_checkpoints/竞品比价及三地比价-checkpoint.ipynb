{
 "cells": [
  {
   "cell_type": "code",
   "execution_count": 269,
   "id": "12ffb180",
   "metadata": {},
   "outputs": [],
   "source": [
    "import pandas as pd\n",
    "import datetime\n",
    "import warnings\n",
    "import pymssql\n",
    "import re\n",
    "warnings.filterwarnings(\"ignore\")  # 忽略UserWarning兼容性警告\n",
    "now = datetime.date.today().strftime(\"%Y-%m-%d\")\n",
    "server = \"120.253.186.206:12513\"\n",
    "user = \"baseline2\"\n",
    "password = \"qwert123!@#\"\n",
    "database = \"Lichi\"  \n",
    "\n",
    "# 建立数据库连接\n",
    "conn = pymssql.connect(server=server, user=user, password=password, database=database)\n",
    "discount = float('0.76')\n",
    "Discount_ye_now = float('0.82')\n",
    "Discount_MMM_now = float('1.0')\n",
    "Discount_SB_now = float('0.74')\n",
    "\n",
    "\n",
    "df_jp = pd.read_excel(f'C:/Users/15516/Desktop/数据处理/竞对数据/比对目录——2023.06.26版.xlsx',sheet_name='比价明细')\n",
    "df_MMM_now = pd.read_csv(f'C:/Users/15516/Desktop/数据处理/竞对数据/mmm/梅苗苗{now}.csv')\n",
    "df_YE_now  = pd.read_csv(f'C:/Users/15516/Desktop/数据处理/竞对数据/牙E在线/牙E在线{now}.csv',encoding='GBK')\n",
    "df_SB_now  = pd.read_csv(f'C:/Users/15516/Desktop/数据处理/竞对数据/松佰/松佰-{now}.csv')"
   ]
  },
  {
   "cell_type": "markdown",
   "id": "a8c3ef5a",
   "metadata": {},
   "source": [
    "# 三地比价表"
   ]
  },
  {
   "cell_type": "markdown",
   "id": "4a098447",
   "metadata": {},
   "source": [
    "## 函数配置"
   ]
  },
  {
   "cell_type": "code",
   "execution_count": 270,
   "id": "59fe270e",
   "metadata": {},
   "outputs": [],
   "source": [
    "def deal_with(area, discount):\n",
    "    \n",
    "    discount = discount\n",
    "    \n",
    "    # 读取相关数据文件\n",
    "    df_cp = pd.read_excel(f'C:/Users/15516/Desktop/数据处理/励齿数据/{now}/{area}产品详情.xlsx')\n",
    "    df_kc = pd.read_excel(f'C:/Users/15516/Desktop/数据处理/励齿数据/{now}/{area}库存.xlsx')\n",
    "    df_jg = pd.read_excel(f'C:/Users/15516/Desktop/数据处理/励齿数据/{now}/{area}采购价格.xlsx')\n",
    "    \n",
    "    # 根据地区设置 lichi 变量\n",
    "    area_mapping = {\n",
    "        '上海': 'lichi',\n",
    "        '北京': 'lichi_beijing',\n",
    "        '广州': 'lichi_guangzhou'\n",
    "    }\n",
    "    lichi = area_mapping.get(area, '')\n",
    "    \n",
    "    # 构建查询语句，引用不同的 lichi 变量\n",
    "    query_finalPrice = f'''\n",
    "    SELECT cinvcode, iTaxUnitPrice\n",
    "    FROM (\n",
    "        SELECT cinvcode, iTaxUnitPrice, RANK() OVER (PARTITION BY cinvcode ORDER BY dInputDate DESC) AS rank\n",
    "        FROM {lichi}..pu_purordermaster ma\n",
    "        INNER JOIN {lichi}..PU_PurOrderDetail de ON ma.pomid = de.pomid\n",
    "        WHERE\n",
    "            iTaxUnitPrice NOT IN ('0', '0.01', '0.1')\n",
    "            AND Status IN ('已审核', '关闭')\n",
    "            AND NOT EXISTS (SELECT 1 FROM {lichi}..vendor WHERE ma.cVenCode = cVenCode AND cVenName LIKE '%励齿医疗%')\n",
    "            AND igQuantity != 0\n",
    "    ) AS a\n",
    "    WHERE a.rank = 1;\n",
    "    '''\n",
    "    \n",
    "    # 执行查询\n",
    "    df_fp = pd.read_sql(query_finalPrice, conn)\n",
    "    \n",
    "    # 判断到手价是否为0或为空，根据条件计算到手价格\n",
    "    df_cp['到手价格'] = df_cp.apply(lambda row: discount * row['价格'] if (row['到手价'] == 0 or pd.isnull(row['到手价'])) else row['到手价'], axis=1)\n",
    "    \n",
    "    # 选择所需的列\n",
    "    df_cp = df_cp[['SKU编码', '名称', '是否上架', '价格', '到手价格']]\n",
    "    \n",
    "    # 执行左连接操作\n",
    "    df_merged = pd.merge(df_cp, df_kc, left_on='SKU编码', right_on='励齿编码', how='left').merge(df_jg, left_on='SKU编码', right_on='励齿编码', how='left').merge(df_fp, left_on='SKU编码', right_on='cinvcode', how='left')\n",
    "    \n",
    "    # 选择所需的列，并对数值列进行舍入\n",
    "    \n",
    "    df_merged[['价格', '到手价格', '含税采购价', 'iTaxUnitPrice']] = df_merged[['价格', '到手价格', '含税采购价', 'iTaxUnitPrice']].apply(lambda x: round(x, 2), axis=1)\n",
    "        \n",
    "        \n",
    "    df_merged = df_merged[['SKU编码','名称','是否上架','价格','到手价格','励齿库存','含税采购价','iTaxUnitPrice']]\n",
    "    \n",
    "    # 修改列名\n",
    "    new_columns = ['SKU编码', f'{area}名称', f'{area}类型', f'{area}商城价格', f'{area}到手价格', f'{area}库存量', f'{area}采购价', f'{area}最后采购价格']\n",
    "    df_merged.columns = new_columns\n",
    "    \n",
    "    return df_merged\n",
    "\n",
    "\n",
    "def deal_with_MMM(df, Discount):\n",
    "    \"\"\"\n",
    "    处理梅苗苗数据的函数\n",
    "\n",
    "    参数:\n",
    "    - df: 待处理的DataFrame\n",
    "    - Discount: 折扣\n",
    "\n",
    "    返回值:\n",
    "    - 处理后的DataFrame\n",
    "    \"\"\"\n",
    "\n",
    "    # 清除型号列中的空格\n",
    "    df['型号'] = df['型号'].str.strip()\n",
    "\n",
    "    # 合并品名和型号列，并在型号列为空时只保留品名\n",
    "    df['品型'] = df['品名'] + df['型号'].fillna('')\n",
    "\n",
    "    # 根据折扣价和价格列判断折扣价格列的值\n",
    "    df['折扣价格'] = df.apply(lambda row: row['折扣价'] if pd.notnull(row['折扣价']) and row['折扣价'] != 0 else row['价格'] * Discount, axis=1)\n",
    "\n",
    "    # 重新排列列的顺序\n",
    "    df = df[['产品编码', '品型', '折扣价格', '标签']]\n",
    "    \n",
    "    # 重命名列名\n",
    "    new_columns = ['梅苗苗编码', '梅苗苗品名', '梅苗苗.折扣价格', '梅苗苗.标签']\n",
    "    df.columns = new_columns\n",
    "    \n",
    "    return df\n",
    "\n",
    "\n",
    "\n",
    "def deal_with_YAE(df, Discount):\n",
    "    \"\"\"\n",
    "    对DataFrame进行处理，添加折扣价格列，并返回处理后的DataFrame。\n",
    "\n",
    "    参数：\n",
    "    df (pandas.DataFrame): 要处理的DataFrame。\n",
    "    Discount (float): 折扣值。\n",
    "\n",
    "    返回：\n",
    "    pandas.DataFrame: 处理后的DataFrame。\n",
    "    \"\"\"\n",
    "\n",
    "    # 去除型号列中的空格\n",
    "    df['型号'] = df['型号'].str.replace(' ', '')\n",
    "\n",
    "    # 拼接链接、型号和商品编号列为品型列\n",
    "    df['品型'] = df['链接'].astype(str) + df['型号'].astype(str) + df['商品编号'].astype(str)\n",
    "    df['牙E编码'] = df['链接'].astype(str) + df['型号'].astype(str)\n",
    "\n",
    "    # 计算折扣价格列\n",
    "    df['折扣价格'] = df['价格'] * Discount \n",
    "\n",
    "    # 重新选择列，只保留牙E编码、品型和折扣价格列\n",
    "    df = df[['牙E编码', '品型', '折扣价格']]\n",
    "\n",
    "    # 重命名列名\n",
    "    new_columns = ['牙E编码', '牙E在线品型', '牙E在线.折扣价格']\n",
    "    df.columns = new_columns\n",
    "\n",
    "    return df\n",
    "\n",
    "\n",
    "\n",
    "def deal_with_SONGBAI(df, discount):\n",
    "    \"\"\"\n",
    "    处理松佰数据的函数，替换价格中的\"议价\"和\"￥\"，根据折扣计算到手价格，并选择指定的列返回处理后的DataFrame。\n",
    "\n",
    "    参数：\n",
    "    - df (pandas.DataFrame): 要处理的DataFrame。\n",
    "    - discount (float): 折扣值。\n",
    "\n",
    "    返回：\n",
    "    - pandas.DataFrame: 处理后的DataFrame。\n",
    "    \"\"\"\n",
    "\n",
    "    # 替换商城价格中的\"议价\"和\"￥\"，并转换为浮点数\n",
    "    df['商城价格'] = df['商城价格'].apply(lambda x: re.sub(r'(议价|￥)', lambda m: '0' if m.group(0) == '议价' else '', str(x))).astype(float)\n",
    "\n",
    "    # 替换到手价格中的\"议价\"和\"￥\"，并转换为浮点数\n",
    "    df['到手价格'] = df['到手价格'].apply(lambda x: re.sub(r'(议价|￥)', lambda m: '0' if m.group(0) == '议价' else '', str(x))).astype(float)\n",
    "\n",
    "    # 根据条件计算到手价格\n",
    "    df['到手价格'] = df.apply(lambda row: discount * row['商城价格'] if (row['到手价格'] == 0 or pd.isnull(row['到手价格'])) else row['到手价格'], axis=1)\n",
    "\n",
    "    # 选择指定的列\n",
    "    df = df[['商品编码', '商品名称', '到手价格', '厂家直发']]\n",
    "    \n",
    "    # 重命名列名\n",
    "    new_columns = ['松佰编码', '松佰名称', '松佰商城.折扣价格', '松佰商城.标签']\n",
    "    df.columns = new_columns\n",
    "\n",
    "    return df\n",
    "\n",
    "\n"
   ]
  },
  {
   "cell_type": "markdown",
   "id": "03d8f05a",
   "metadata": {},
   "source": [
    "## 处理三地比价表数据"
   ]
  },
  {
   "cell_type": "code",
   "execution_count": 271,
   "id": "f1438a0b",
   "metadata": {},
   "outputs": [],
   "source": [
    "df_sh = deal_with('上海', discount)  # 获取上海地区的数据\n",
    "df_bj = deal_with('北京', discount)  # 获取北京地区的数据\n",
    "df_gz = deal_with('广州', discount)  # 获取广州地区的数据\n",
    "\n",
    "# 合并SKU编码\n",
    "df = pd.concat([df_sh['SKU编码'], df_bj['SKU编码'], df_gz['SKU编码']]).drop_duplicates().reset_index(drop=True)\n",
    "df = pd.DataFrame({'SKU编码': df})\n",
    "\n",
    "# 根据SKU编码进行左连接操作\n",
    "df = pd.merge(df, df_sh, on='SKU编码', how='left').merge(df_bj, on='SKU编码', how='left').merge(df_gz, on='SKU编码', how='left')\n",
    "\n",
    "# 重新组织列的顺序\n",
    "df = df[['SKU编码', '上海名称', '北京名称', '广州名称', '上海类型', '北京类型', '广州类型', '上海商城价格', '北京商城价格', '广州商城价格', '上海到手价格', '北京到手价格', '广州到手价格', '上海库存量', '北京库存量', '广州库存量', '上海采购价', '北京采购价', '广州采购价', '上海最后采购价格', '北京最后采购价格', '广州最后采购价格']]\n"
   ]
  },
  {
   "cell_type": "markdown",
   "id": "cbf81490",
   "metadata": {},
   "source": [
    "## 输出三地比价表"
   ]
  },
  {
   "cell_type": "code",
   "execution_count": 272,
   "id": "09dd2cca",
   "metadata": {},
   "outputs": [],
   "source": [
    "df.to_excel(f'C:/Users/15516/Desktop/三地比价{now}.xlsx',index = False)"
   ]
  },
  {
   "cell_type": "markdown",
   "id": "b62fa869",
   "metadata": {},
   "source": [
    "# 竞品比价表"
   ]
  },
  {
   "cell_type": "code",
   "execution_count": 273,
   "id": "8788d674",
   "metadata": {},
   "outputs": [],
   "source": [
    "## 梅苗苗\n",
    "df_mmm =  deal_with_MMM(df_MMM_now,Discount_MMM_now)"
   ]
  },
  {
   "cell_type": "code",
   "execution_count": 274,
   "id": "121964bc",
   "metadata": {},
   "outputs": [],
   "source": [
    "## 牙E在线\n",
    "df_yae = deal_with_YAE(df_YE_now,Discount_ye_now)"
   ]
  },
  {
   "cell_type": "code",
   "execution_count": 275,
   "id": "2b69923f",
   "metadata": {},
   "outputs": [],
   "source": [
    "# 构建查询语句，引用不同的 lichi 变量\n",
    "query = '''\n",
    "SELECT i.cinvcode'励齿编码', i.iRefCost'商品档案采购价'\n",
    "FROM lichi..inventory i\n",
    "'''\n",
    "# 执行查询\n",
    "df_dacgj = pd.read_sql(query, conn)\n",
    "\n",
    "# 将查询结果与原始DataFrame进行合并\n",
    "df = pd.merge(df, df_dacgj, left_on='SKU编码', right_on='励齿编码', how='left')\n",
    "\n",
    "# 选择指定的列\n",
    "df = df[['SKU编码', '上海名称', '上海类型', '上海到手价格', '商品档案采购价', '上海最后采购价格', '北京最后采购价格', '广州最后采购价格']]\n",
    "\n",
    "# 重命名列名\n",
    "new_columns = ['励齿编码', '励齿商品名', '上海励齿是否上架', '上海励齿.折扣价格', '商品档案采购价', '上海最后采购价格', '北京最后采购价格', '广州最后采购价格']\n",
    "df.columns = new_columns\n"
   ]
  },
  {
   "cell_type": "code",
   "execution_count": 276,
   "id": "c38795b5",
   "metadata": {
    "scrolled": true
   },
   "outputs": [],
   "source": [
    "## 松佰\n",
    "df_SB = deal_with_SONGBAI(df_SB_now,Discount_SB_now)"
   ]
  },
  {
   "cell_type": "markdown",
   "id": "add672dc",
   "metadata": {},
   "source": [
    "## 合并表格"
   ]
  },
  {
   "cell_type": "code",
   "execution_count": 277,
   "id": "ad4c5852",
   "metadata": {},
   "outputs": [],
   "source": [
    "# 定义新的列名\n",
    "new_columns = ['励齿编码', '梅苗苗编码', '牙E编码', '松佰编码']\n",
    "df_jp.columns = new_columns\n",
    "\n",
    "# 将数据框进行合并\n",
    "df = df.merge(df_jp, on='励齿编码', how='left').merge(df_mmm, on='梅苗苗编码', how='left').merge(df_yae, on='牙E编码', how='left').merge(df_SB, on='松佰编码', how='left')\n",
    "\n",
    "# 创建副本数据框\n",
    "dfb = df.copy()\n",
    "\n",
    "# 删除励齿商品名为空的行\n",
    "dfb.dropna(subset=['励齿商品名'], inplace=True)\n",
    "\n",
    "# 计算折扣价格的差异\n",
    "dfb['励齿/梅苗苗折扣价格比对'] = dfb['上海励齿.折扣价格'] - dfb['梅苗苗.折扣价格']\n",
    "dfb['励齿/牙E在线折扣价格比对'] = dfb['上海励齿.折扣价格'] - dfb['牙E在线.折扣价格']\n",
    "\n",
    "# 保留所需的列\n",
    "dfb = dfb[['励齿编码', '梅苗苗编码', '牙E编码', '松佰编码', '励齿商品名', '梅苗苗品名', '牙E在线品型', '松佰名称', '上海励齿是否上架', '上海励齿.折扣价格', '梅苗苗.折扣价格', '牙E在线.折扣价格', '松佰商城.折扣价格', '励齿/梅苗苗折扣价格比对', '励齿/牙E在线折扣价格比对', '商品档案采购价', '上海最后采购价格', '北京最后采购价格', '广州最后采购价格', '梅苗苗.标签', '松佰商城.标签']]\n",
    "\n",
    "# 返回结果数据框\n",
    "dfb\n"
   ]
  },
  {
   "cell_type": "code",
   "execution_count": null,
   "id": "7129aab2",
   "metadata": {},
   "outputs": [],
   "source": [
    "dfb.to_excel(f'C:/Users/15516/Desktop/竞品比价{now}.xlsx',index = False)"
   ]
  },
  {
   "cell_type": "code",
   "execution_count": null,
   "id": "02531fd8",
   "metadata": {},
   "outputs": [],
   "source": []
  },
  {
   "cell_type": "code",
   "execution_count": null,
   "id": "d7a05da7",
   "metadata": {},
   "outputs": [],
   "source": []
  },
  {
   "cell_type": "code",
   "execution_count": null,
   "id": "31d41cd1",
   "metadata": {},
   "outputs": [],
   "source": []
  },
  {
   "cell_type": "code",
   "execution_count": null,
   "id": "6641dc90",
   "metadata": {},
   "outputs": [],
   "source": []
  }
 ],
 "metadata": {
  "kernelspec": {
   "display_name": "Python 3 (ipykernel)",
   "language": "python",
   "name": "python3"
  },
  "language_info": {
   "codemirror_mode": {
    "name": "ipython",
    "version": 3
   },
   "file_extension": ".py",
   "mimetype": "text/x-python",
   "name": "python",
   "nbconvert_exporter": "python",
   "pygments_lexer": "ipython3",
   "version": "3.10.9"
  }
 },
 "nbformat": 4,
 "nbformat_minor": 5
}
