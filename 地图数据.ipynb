{
 "cells": [
  {
   "cell_type": "code",
   "execution_count": 22,
   "id": "9eec6ee1",
   "metadata": {},
   "outputs": [
    {
     "name": "stdout",
     "output_type": "stream",
     "text": [
      "合并列表 C:/Users/15516/Desktop/数据处理/导出数据\\2023-07-18_090947.350.xls\n",
      "合并列表 C:/Users/15516/Desktop/数据处理/导出数据\\2023-07-18_091044.390.xls\n",
      "合并列表 C:/Users/15516/Desktop/数据处理/导出数据\\2023-07-18_091144.524.xls\n",
      "合并列表 C:/Users/15516/Desktop/数据处理/导出数据\\2023-07-18_091237.661.xls\n",
      "合并列表 C:/Users/15516/Desktop/数据处理/导出数据\\2023-07-18_091335.602.xls\n",
      "合并列表 C:/Users/15516/Desktop/数据处理/导出数据\\2023-07-18_091432.806.xls\n",
      "合并列表 C:/Users/15516/Desktop/数据处理/导出数据\\2023-07-18_091524.411.xls\n",
      "合并列表 C:/Users/15516/Desktop/数据处理/导出数据\\2023-07-18_091611.127.xls\n",
      "合并列表 C:/Users/15516/Desktop/数据处理/导出数据\\2023-07-18_091627.831.xls\n"
     ]
    }
   ],
   "source": [
    "import pandas as pd \n",
    "import glob\n",
    "\n",
    "list_dfs = []\n",
    "for f in glob.glob(r'C:/Users/15516/Desktop/数据处理/导出数据/*.xls'):\n",
    "    print('合并列表', f)\n",
    "    f1 = pd.read_excel(f)\n",
    "    list_dfs.append(f1)\n",
    "\n",
    "df3 = pd.concat(list_dfs, axis=0, ignore_index=True)\n",
    "df3 = df3[['标题名称', '手机', '座机', '地址', '城市']]\n",
    "df3['企业名称'] = df3['标题名称'].replace('地址', '', regex=True)\n",
    "\n",
    "# 删除企业名称中不含有\"口腔\"、\"齿科\"或\"牙科\"的行\n",
    "keywords = ['口腔', '齿科', '牙科']\n",
    "df3 = df3[df3['企业名称'].str.contains('|'.join(keywords))]\n",
    "\n",
    "# 重置索引\n",
    "df3.reset_index(drop=True, inplace=True)\n",
    "\n",
    "# 打印结果\n",
    "df3 = df3[['企业名称','城市']]\n",
    "\n",
    "\n",
    "\n",
    "df = pd.read_excel(r'C:/Users/15516/Desktop/市场新客0718.xlsx')[['企业名称','所属城市','所属区县']]\n",
    "df['城市'] = df['所属城市'] + df['所属区县']\n",
    "df = df[['企业名称','城市']]\n",
    "\n",
    "\n",
    "merged_df = pd.merge(df, df3, on='城市', how='outer')"
   ]
  },
  {
   "cell_type": "code",
   "execution_count": 23,
   "id": "83f32bc6",
   "metadata": {},
   "outputs": [
    {
     "name": "stdout",
     "output_type": "stream",
     "text": [
      "                           企业名称_x      城市                 企业名称_y  相似度\n",
      "55387            大连金普新区怡康口腔诊所有限公司  大连市金州区             大连金普新区怡康口腔  1.0\n",
      "59391               苏州艾齿嘉口腔集团有限公司  苏州市姑苏区                苏州艾齿嘉口腔  1.0\n",
      "60069               苏州艾齿嘉口腔管理有限公司  苏州市姑苏区                苏州艾齿嘉口腔  1.0\n",
      "66922               太原市小店区成晓丽口腔诊所  太原市小店区          太原市小店区成晓丽口腔诊所  1.0\n",
      "69342                   昌乐闫会娟口腔诊所  潍坊市昌乐县              昌乐闫会娟口腔诊所  1.0\n",
      "71818   重庆豪品口腔诊所管理连锁有限公司渝北宝桐路口腔诊所  重庆市渝北区    重庆豪品口腔连锁(渝北飞湖路口腔诊所)  1.0\n",
      "93081                永康淑扬口腔诊所有限公司  金华市永康市               永康淑扬口腔诊所  1.0\n",
      "100613       威海华怡口腔门诊部有限公司环翠口腔门诊部  威海市环翠区           威海华怡口腔(环翠院区)  1.0\n",
      "105827               天津和平卓奕口腔有限公司  天津市和平区            天津和平卓奕口腔门诊部  1.0\n",
      "105862               天津和平卓奕口腔有限公司  天津市和平区            天津和平卓奕口腔门珍部  1.0\n",
      "106646               南宁昆仑口腔诊所有限公司  南宁市兴宁区                 南宁昆仑口腔  1.0\n",
      "106834               南宁昆仑口腔门诊有限公司  南宁市兴宁区                 南宁昆仑口腔  1.0\n",
      "114837   山西津诚口腔医疗服务有限公司朔城区段双义口腔诊所  朔州市朔城区         山西津诚口腔医疗服务有限公司  1.0\n",
      "141495                  罗庄岳利峰口腔诊所  临沂市罗庄区              罗庄岳利峰口腔诊所  1.0\n",
      "142142           大连洪涛卓越口腔医疗技术有限公司  大连市西岗区         大连洪涛卓越口腔医疗有限公司  1.0\n",
      "144635                重庆璧山魏恋苹口腔诊所  重庆市璧山区            重庆璧山魏恋苹口腔诊所  1.0\n",
      "158221           沈阳鸿嘉口腔医疗器材经营有限公司  沈阳市浑南区  沈阳鸿嘉口腔医疗有限公司浑南汇泉路口腔诊所  1.0\n",
      "163866                  新县李德枝口腔诊所   信阳市新县              新县李德枝口腔诊所  1.0\n",
      "165513            浦江口腔医院有限公司西站门诊部  金华市浦江县                 浦江口腔医院  1.0\n",
      "165535            浦江口腔医院有限公司西站门诊部  金华市浦江县          浦江口腔医院(黄宅门诊部)  1.0\n",
      "166463       南昌大白象口腔门诊部有限公司玺悦城分公司  南昌市南昌县             南昌大白象口腔旗舰店  1.0\n",
      "166763      南昌大白象口腔门诊部有限公司东岳大道分公司  南昌市南昌县             南昌大白象口腔旗舰店  1.0\n",
      "177326                   东阿洪涛口腔诊所  聊城市东阿县               东阿洪涛口腔诊所  1.0\n"
     ]
    }
   ],
   "source": [
    "import pandas as pd\n",
    "from ngram import NGram\n",
    "import re\n",
    "\n",
    "def extract_prefix(name):\n",
    "    # 使用正则表达式提取\"口腔\"、\"齿科\"或\"牙科\"之前的部分\n",
    "    match = re.search(r'^(.*?)(口腔|齿科|牙科)', name)\n",
    "    if match:\n",
    "        return match.group(1)\n",
    "    return name\n",
    "\n",
    "def calculate_similarity(name1, name2):\n",
    "    if not name1 or not name2:\n",
    "        return 0.0\n",
    "\n",
    "    ngram = NGram(N=2)  # 指定 N=2 用于计算 bigram 相似度\n",
    "    similarity = ngram.compare(name1, name2)\n",
    "    return similarity\n",
    "\n",
    "def match_companies(row):\n",
    "    name1 = str(row['企业名称_x'])\n",
    "    name2 = str(row['企业名称_y'])\n",
    "\n",
    "    name1_prefix = extract_prefix(name1)\n",
    "    name2_prefix = extract_prefix(name2)\n",
    "\n",
    "    similarity = calculate_similarity(name1_prefix, name2_prefix)\n",
    "    return similarity\n",
    "\n",
    "# 示例数据，假设df是一个DataFrame，含有'企业名称_x'和'企业名称_y'两列\n",
    "df = merged_df\n",
    "\n",
    "# 将'企业名称_x'和'企业名称_y'转换为字符串\n",
    "df['企业名称_x'] = df['企业名称_x'].astype(str)\n",
    "df['企业名称_y'] = df['企业名称_y'].astype(str)\n",
    "\n",
    "# 使用apply函数计算相似度\n",
    "df['相似度'] = df.apply(match_companies, axis=1)\n",
    "\n",
    "# 保留相似度大于0.75的行\n",
    "df = df.query('相似度 > 0.75')\n",
    "\n",
    "# 使用drop_duplicates()方法去重，保留第一个出现的重复行\n",
    "df = df.drop_duplicates()\n",
    "\n",
    "# 输出结果\n",
    "print(df)\n"
   ]
  },
  {
   "cell_type": "code",
   "execution_count": 24,
   "id": "983b2128",
   "metadata": {},
   "outputs": [],
   "source": [
    "df.to_excel('C:/Users/15516/Desktop/新客匹配.xlsx',index=False)"
   ]
  }
 ],
 "metadata": {
  "kernelspec": {
   "display_name": "Python 3 (ipykernel)",
   "language": "python",
   "name": "python3"
  },
  "language_info": {
   "codemirror_mode": {
    "name": "ipython",
    "version": 3
   },
   "file_extension": ".py",
   "mimetype": "text/x-python",
   "name": "python",
   "nbconvert_exporter": "python",
   "pygments_lexer": "ipython3",
   "version": "3.10.9"
  }
 },
 "nbformat": 4,
 "nbformat_minor": 5
}
